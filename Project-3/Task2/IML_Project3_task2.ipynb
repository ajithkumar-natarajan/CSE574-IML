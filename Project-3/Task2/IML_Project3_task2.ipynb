{
  "nbformat": 4,
  "nbformat_minor": 0,
  "metadata": {
    "kernelspec": {
      "name": "python3",
      "display_name": "Python 3"
    },
    "language_info": {
      "codemirror_mode": {
        "name": "ipython",
        "version": 3
      },
      "file_extension": ".py",
      "mimetype": "text/x-python",
      "name": "python",
      "nbconvert_exporter": "python",
      "pygments_lexer": "ipython3",
      "version": "3.6.5"
    },
    "colab": {
      "name": "IML_Project3_task2.ipynb",
      "provenance": [],
      "collapsed_sections": [],
      "machine_shape": "hm"
    },
    "accelerator": "GPU"
  },
  "cells": [
    {
      "cell_type": "code",
      "metadata": {
        "id": "9fAdy798rFJA",
        "colab_type": "code",
        "outputId": "3d3ad6d0-9e7e-4ada-ae6a-de64eccfb557",
        "colab": {
          "base_uri": "https://localhost:8080/",
          "height": 79
        }
      },
      "source": [
        "#Importing necessary libraries\n",
        "import keras\n",
        "import numpy as np\n",
        "from keras.models import Model\n",
        "from keras.optimizers import RMSprop\n",
        "from keras.layers import Input,Dense,Flatten,Dropout,merge,Reshape,Conv2D,MaxPooling2D,UpSampling2D,Conv2DTranspose\n",
        "from keras.layers.normalization import BatchNormalization\n",
        "from keras.models import Model,Sequential\n",
        "from keras.optimizers import Adadelta, RMSprop,SGD,Adam\n",
        "from keras import regularizers\n",
        "from keras import backend as K\n",
        "from sklearn.model_selection import train_test_split"
      ],
      "execution_count": 1,
      "outputs": [
        {
          "output_type": "stream",
          "text": [
            "Using TensorFlow backend.\n"
          ],
          "name": "stderr"
        },
        {
          "output_type": "display_data",
          "data": {
            "text/html": [
              "<p style=\"color: red;\">\n",
              "The default version of TensorFlow in Colab will soon switch to TensorFlow 2.x.<br>\n",
              "We recommend you <a href=\"https://www.tensorflow.org/guide/migrate\" target=\"_blank\">upgrade</a> now \n",
              "or ensure your notebook will continue to use TensorFlow 1.x via the <code>%tensorflow_version 1.x</code> magic:\n",
              "<a href=\"https://colab.research.google.com/notebooks/tensorflow_version.ipynb\" target=\"_blank\">more info</a>.</p>\n"
            ],
            "text/plain": [
              "<IPython.core.display.HTML object>"
            ]
          },
          "metadata": {
            "tags": []
          }
        }
      ]
    },
    {
      "cell_type": "code",
      "metadata": {
        "id": "VdBCVu0BrFJJ",
        "colab_type": "code",
        "colab": {}
      },
      "source": [
        "#Loading the dataset directly from Keras' library; normalizing and reshaping it\n",
        "(x_train, y_train), (x_test, y_test) = keras.datasets.fashion_mnist.load_data()\n",
        "x_train = (x_train.reshape(-1, 28, 28, 1)) / np.max(x_train)\n",
        "x_test = (x_test.reshape(-1, 28, 28, 1)) / np.max(x_test)\n",
        "np.max(x_train), np.max(x_test)\n",
        "#Splitting the dataset into training and validation sets\n",
        "train_set, val_set, train_out, val_out = train_test_split(x_train, x_train, test_size=0.2, random_state=42)"
      ],
      "execution_count": 0,
      "outputs": []
    },
    {
      "cell_type": "code",
      "metadata": {
        "id": "2yot3beUrFJN",
        "colab_type": "code",
        "outputId": "d91e2570-938b-4578-abfc-590cdadec87b",
        "colab": {
          "base_uri": "https://localhost:8080/",
          "height": 406
        }
      },
      "source": [
        "#Declaring model architecture\n",
        "autoencoder = Sequential()\n",
        "\n",
        "input_shape=(28, 28, 1)\n",
        "filters=[32, 64, 128, 10]\n",
        "\n",
        "if input_shape[0] % 8 == 0:\n",
        "  pad3 = 'same'\n",
        "else:\n",
        "  pad3 = 'valid'\n",
        "\n",
        "autoencoder.add(Conv2D(filters[0], 5, strides=2, padding='same', activation='relu', name='conv1', input_shape=(28,28,1))) #28 x 28 x 32\n",
        "autoencoder.add(BatchNormalization())\n",
        "autoencoder.add(Conv2D(filters[1], 5, strides=2, padding='same', activation='relu', name='conv2'))\n",
        "autoencoder.add(BatchNormalization())\n",
        "\n",
        "autoencoder.add(Conv2D(filters[2], 3, strides=2, padding=pad3, activation='relu', name='conv3')) #14 x 14 x 64\n",
        "autoencoder.add(BatchNormalization())\n",
        "autoencoder.add(Flatten())\n",
        "\n",
        "autoencoder.add(Dense(units=filters[3], name='embedding'))\n",
        "\n",
        "autoencoder.add(Dense(units=filters[2]*int(input_shape[0]/8)*int(input_shape[0]/8), activation='relu'))\n",
        "\n",
        "autoencoder.add(Reshape((int(input_shape[0]/8), int(input_shape[0]/8), filters[2])))\n",
        "autoencoder.add(BatchNormalization())\n",
        "autoencoder.add(Conv2DTranspose(filters[1], 3, strides=2, padding=pad3, activation='relu', name='deconv3'))\n",
        "autoencoder.add(BatchNormalization())\n",
        "autoencoder.add(Conv2DTranspose(filters[0], 5, strides=2, padding='same', activation='relu', name='deconv2'))\n",
        "autoencoder.add(BatchNormalization())\n",
        "\n",
        "autoencoder.add(Conv2DTranspose(input_shape[2], 5, strides=2, padding='same', name='deconv1'))"
      ],
      "execution_count": 3,
      "outputs": [
        {
          "output_type": "stream",
          "text": [
            "WARNING:tensorflow:From /usr/local/lib/python3.6/dist-packages/keras/backend/tensorflow_backend.py:66: The name tf.get_default_graph is deprecated. Please use tf.compat.v1.get_default_graph instead.\n",
            "\n",
            "WARNING:tensorflow:From /usr/local/lib/python3.6/dist-packages/keras/backend/tensorflow_backend.py:541: The name tf.placeholder is deprecated. Please use tf.compat.v1.placeholder instead.\n",
            "\n",
            "WARNING:tensorflow:From /usr/local/lib/python3.6/dist-packages/keras/backend/tensorflow_backend.py:4432: The name tf.random_uniform is deprecated. Please use tf.random.uniform instead.\n",
            "\n",
            "WARNING:tensorflow:From /usr/local/lib/python3.6/dist-packages/keras/backend/tensorflow_backend.py:190: The name tf.get_default_session is deprecated. Please use tf.compat.v1.get_default_session instead.\n",
            "\n",
            "WARNING:tensorflow:From /usr/local/lib/python3.6/dist-packages/keras/backend/tensorflow_backend.py:197: The name tf.ConfigProto is deprecated. Please use tf.compat.v1.ConfigProto instead.\n",
            "\n",
            "WARNING:tensorflow:From /usr/local/lib/python3.6/dist-packages/keras/backend/tensorflow_backend.py:203: The name tf.Session is deprecated. Please use tf.compat.v1.Session instead.\n",
            "\n",
            "WARNING:tensorflow:From /usr/local/lib/python3.6/dist-packages/keras/backend/tensorflow_backend.py:207: The name tf.global_variables is deprecated. Please use tf.compat.v1.global_variables instead.\n",
            "\n",
            "WARNING:tensorflow:From /usr/local/lib/python3.6/dist-packages/keras/backend/tensorflow_backend.py:216: The name tf.is_variable_initialized is deprecated. Please use tf.compat.v1.is_variable_initialized instead.\n",
            "\n",
            "WARNING:tensorflow:From /usr/local/lib/python3.6/dist-packages/keras/backend/tensorflow_backend.py:223: The name tf.variables_initializer is deprecated. Please use tf.compat.v1.variables_initializer instead.\n",
            "\n",
            "WARNING:tensorflow:From /usr/local/lib/python3.6/dist-packages/keras/backend/tensorflow_backend.py:2041: The name tf.nn.fused_batch_norm is deprecated. Please use tf.compat.v1.nn.fused_batch_norm instead.\n",
            "\n",
            "WARNING:tensorflow:From /usr/local/lib/python3.6/dist-packages/keras/backend/tensorflow_backend.py:148: The name tf.placeholder_with_default is deprecated. Please use tf.compat.v1.placeholder_with_default instead.\n",
            "\n"
          ],
          "name": "stdout"
        }
      ]
    },
    {
      "cell_type": "code",
      "metadata": {
        "id": "QBbudxR0rFJR",
        "colab_type": "code",
        "colab": {}
      },
      "source": [
        "#Declaring constants\n",
        "batch_size = 32\n",
        "epochs = 100\n",
        "inChannel = 1\n",
        "x, y = 28, 28\n",
        "input_img = Input(shape = (x, y, inChannel))\n",
        "num_classes = 10"
      ],
      "execution_count": 0,
      "outputs": []
    },
    {
      "cell_type": "code",
      "metadata": {
        "id": "Jl8Ku84SrFJW",
        "colab_type": "code",
        "outputId": "6f153a7a-5562-42a8-a2be-b5fc9a0f4b57",
        "colab": {
          "base_uri": "https://localhost:8080/",
          "height": 70
        }
      },
      "source": [
        "#Compiling the model and settings loss function and optimizer\n",
        "autoencoder.compile(loss='mean_squared_error', optimizer = Adam())"
      ],
      "execution_count": 5,
      "outputs": [
        {
          "output_type": "stream",
          "text": [
            "WARNING:tensorflow:From /usr/local/lib/python3.6/dist-packages/keras/optimizers.py:793: The name tf.train.Optimizer is deprecated. Please use tf.compat.v1.train.Optimizer instead.\n",
            "\n"
          ],
          "name": "stdout"
        }
      ]
    },
    {
      "cell_type": "code",
      "metadata": {
        "id": "11FbLZ77rFJb",
        "colab_type": "code",
        "colab": {}
      },
      "source": [
        "#Fitting the training data and validating the model\n",
        "autoencoder_train = autoencoder.fit(train_set, train_out, batch_size=batch_size, epochs=epochs, verbose=1, validation_data=(val_set, val_out))"
      ],
      "execution_count": 0,
      "outputs": []
    },
    {
      "cell_type": "code",
      "metadata": {
        "id": "hEJsw4Y7rFJf",
        "colab_type": "code",
        "outputId": "1cb0b99e-39ff-4c6b-e0f3-a8349c3b4fa2",
        "colab": {
          "base_uri": "https://localhost:8080/",
          "height": 689
        }
      },
      "source": [
        "#Printing the summary of model\n",
        "autoencoder.summary()"
      ],
      "execution_count": 7,
      "outputs": [
        {
          "output_type": "stream",
          "text": [
            "Model: \"sequential_1\"\n",
            "_________________________________________________________________\n",
            "Layer (type)                 Output Shape              Param #   \n",
            "=================================================================\n",
            "conv1 (Conv2D)               (None, 14, 14, 32)        832       \n",
            "_________________________________________________________________\n",
            "batch_normalization_1 (Batch (None, 14, 14, 32)        128       \n",
            "_________________________________________________________________\n",
            "conv2 (Conv2D)               (None, 7, 7, 64)          51264     \n",
            "_________________________________________________________________\n",
            "batch_normalization_2 (Batch (None, 7, 7, 64)          256       \n",
            "_________________________________________________________________\n",
            "conv3 (Conv2D)               (None, 3, 3, 128)         73856     \n",
            "_________________________________________________________________\n",
            "batch_normalization_3 (Batch (None, 3, 3, 128)         512       \n",
            "_________________________________________________________________\n",
            "flatten_1 (Flatten)          (None, 1152)              0         \n",
            "_________________________________________________________________\n",
            "embedding (Dense)            (None, 10)                11530     \n",
            "_________________________________________________________________\n",
            "dense_1 (Dense)              (None, 1152)              12672     \n",
            "_________________________________________________________________\n",
            "reshape_1 (Reshape)          (None, 3, 3, 128)         0         \n",
            "_________________________________________________________________\n",
            "batch_normalization_4 (Batch (None, 3, 3, 128)         512       \n",
            "_________________________________________________________________\n",
            "deconv3 (Conv2DTranspose)    (None, 7, 7, 64)          73792     \n",
            "_________________________________________________________________\n",
            "batch_normalization_5 (Batch (None, 7, 7, 64)          256       \n",
            "_________________________________________________________________\n",
            "deconv2 (Conv2DTranspose)    (None, 14, 14, 32)        51232     \n",
            "_________________________________________________________________\n",
            "batch_normalization_6 (Batch (None, 14, 14, 32)        128       \n",
            "_________________________________________________________________\n",
            "deconv1 (Conv2DTranspose)    (None, 28, 28, 1)         801       \n",
            "=================================================================\n",
            "Total params: 277,771\n",
            "Trainable params: 276,875\n",
            "Non-trainable params: 896\n",
            "_________________________________________________________________\n"
          ],
          "name": "stdout"
        }
      ]
    },
    {
      "cell_type": "code",
      "metadata": {
        "id": "YqqnIH3OXJ04",
        "colab_type": "code",
        "colab": {}
      },
      "source": [
        "#Saving the model weights\n",
        "autoencoder.save_weights('autoencoder_weights.h5')\n",
        "\n",
        "#Loading the model weights\n",
        "# autoencoder.load_weights('autoencoder_weights.h5')"
      ],
      "execution_count": 0,
      "outputs": []
    },
    {
      "cell_type": "code",
      "metadata": {
        "id": "g1Ynte6erFKF",
        "colab_type": "code",
        "colab": {}
      },
      "source": [
        "#Plotting training & validation loss vs number of epochs while training for auto-encoder\n",
        "import matplotlib.pyplot as plt\n",
        "plt.plot(autoencoder.history.history['loss'], color='#009358', marker='o')\n",
        "plt.plot(autoencoder.history.history['val_loss'], color='orange', marker='o')\n",
        "plt.title(\"Training & validation loss\")\n",
        "plt.ylabel(\"Loss\")\n",
        "plt.xlabel(\"Epoch\")\n",
        "plt.legend(['Training loss', 'Validation loss'])\n",
        "graph = plt.gcf()\n",
        "plt.show()\n",
        "graph.savefig('Task2_3_epoch_loss.png', dpi=300)"
      ],
      "execution_count": 0,
      "outputs": []
    },
    {
      "cell_type": "code",
      "metadata": {
        "id": "_vKjcMOMrFJj",
        "colab_type": "code",
        "colab": {}
      },
      "source": [
        "#Importing additional libraries required\n",
        "from sklearn.cluster import MiniBatchKMeans\n",
        "from sklearn import metrics"
      ],
      "execution_count": 0,
      "outputs": []
    },
    {
      "cell_type": "code",
      "metadata": {
        "id": "vvjSm2SjrFJn",
        "colab_type": "code",
        "colab": {}
      },
      "source": [
        "#Separating the encoder layer and using the condensed representation\n",
        "encoder = Model(inputs=autoencoder.input, outputs=autoencoder.get_layer('embedding').output)"
      ],
      "execution_count": 0,
      "outputs": []
    },
    {
      "cell_type": "code",
      "metadata": {
        "id": "H-S_NiCurFJr",
        "colab_type": "code",
        "outputId": "e5c9d0d2-57d9-4f7a-8693-b30380fa57a7",
        "colab": {
          "base_uri": "https://localhost:8080/",
          "height": 1000
        }
      },
      "source": [
        "#Declaring, fitting and predicting the clusters for the test dataset\n",
        "kmeans = MiniBatchKMeans(n_clusters = 10, init= 'k-means++', n_init=20, random_state=42, verbose=1)\n",
        "encoded = encoder.predict(x_test)\n",
        "encoder_pred = encoder.predict(x_test).reshape(x_test.shape[0], -1)\n",
        "y_pred = kmeans.fit_predict(encoder_pred)"
      ],
      "execution_count": 13,
      "outputs": [
        {
          "output_type": "stream",
          "text": [
            "Init 1/20 with method: k-means++\n",
            "Inertia for init 1/20: 1564541.625000\n",
            "Init 2/20 with method: k-means++\n",
            "Inertia for init 2/20: 1544452.375000\n",
            "Init 3/20 with method: k-means++\n",
            "Inertia for init 3/20: 1553241.250000\n",
            "Init 4/20 with method: k-means++\n",
            "Inertia for init 4/20: 1488892.750000\n",
            "Init 5/20 with method: k-means++\n",
            "Inertia for init 5/20: 1479955.250000\n",
            "Init 6/20 with method: k-means++\n",
            "Inertia for init 6/20: 1471749.750000\n",
            "Init 7/20 with method: k-means++\n",
            "Inertia for init 7/20: 1528394.750000\n",
            "Init 8/20 with method: k-means++\n",
            "Inertia for init 8/20: 1526746.750000\n",
            "Init 9/20 with method: k-means++\n",
            "Inertia for init 9/20: 1493554.125000\n",
            "Init 10/20 with method: k-means++\n",
            "Inertia for init 10/20: 1574262.875000\n",
            "Init 11/20 with method: k-means++\n",
            "Inertia for init 11/20: 1532282.125000\n",
            "Init 12/20 with method: k-means++\n",
            "Inertia for init 12/20: 1473578.500000\n",
            "Init 13/20 with method: k-means++\n",
            "Inertia for init 13/20: 1498751.750000\n",
            "Init 14/20 with method: k-means++\n",
            "Inertia for init 14/20: 1518450.500000\n",
            "Init 15/20 with method: k-means++\n",
            "Inertia for init 15/20: 1543651.125000\n",
            "Init 16/20 with method: k-means++\n",
            "Inertia for init 16/20: 1521588.250000\n",
            "Init 17/20 with method: k-means++\n",
            "Inertia for init 17/20: 1559124.500000\n",
            "Init 18/20 with method: k-means++\n",
            "Inertia for init 18/20: 1508399.750000\n",
            "Init 19/20 with method: k-means++\n",
            "Inertia for init 19/20: 1501826.625000\n",
            "Init 20/20 with method: k-means++\n",
            "Inertia for init 20/20: 1475554.750000\n",
            "Minibatch iteration 1/10000: mean batch inertia: 5226.113125, ewa inertia: 5226.113125 \n",
            "Minibatch iteration 2/10000: mean batch inertia: 5141.583438, ewa inertia: 5224.422700 \n",
            "Minibatch iteration 3/10000: mean batch inertia: 4736.094687, ewa inertia: 5214.657117 \n",
            "Minibatch iteration 4/10000: mean batch inertia: 4919.460000, ewa inertia: 5208.753765 \n",
            "Minibatch iteration 5/10000: mean batch inertia: 5146.816563, ewa inertia: 5207.515144 \n",
            "Minibatch iteration 6/10000: mean batch inertia: 5526.570625, ewa inertia: 5213.895616 \n",
            "Minibatch iteration 7/10000: mean batch inertia: 4892.336562, ewa inertia: 5207.465078 \n",
            "Minibatch iteration 8/10000: mean batch inertia: 5456.450000, ewa inertia: 5212.444278 \n",
            "Minibatch iteration 9/10000: mean batch inertia: 4926.218437, ewa inertia: 5206.720334 \n",
            "Minibatch iteration 10/10000: mean batch inertia: 4886.087188, ewa inertia: 5200.308312 \n",
            "Minibatch iteration 11/10000: mean batch inertia: 5237.798437, ewa inertia: 5201.058040 \n",
            "Minibatch iteration 12/10000: mean batch inertia: 4872.549063, ewa inertia: 5194.488517 \n",
            "Minibatch iteration 13/10000: mean batch inertia: 4530.057187, ewa inertia: 5181.201219 \n",
            "Minibatch iteration 14/10000: mean batch inertia: 4781.269375, ewa inertia: 5173.203382 \n",
            "Minibatch iteration 15/10000: mean batch inertia: 4337.571250, ewa inertia: 5156.492411 \n",
            "Minibatch iteration 16/10000: mean batch inertia: 5075.931875, ewa inertia: 5154.881361 \n",
            "Minibatch iteration 17/10000: mean batch inertia: 4583.456250, ewa inertia: 5143.454002 \n",
            "Minibatch iteration 18/10000: mean batch inertia: 4878.263750, ewa inertia: 5138.150727 \n",
            "Minibatch iteration 19/10000: mean batch inertia: 4061.602500, ewa inertia: 5116.621915 \n",
            "Minibatch iteration 20/10000: mean batch inertia: 5859.868125, ewa inertia: 5131.485353 \n",
            "Minibatch iteration 21/10000: mean batch inertia: 4392.083125, ewa inertia: 5116.698787 \n",
            "Minibatch iteration 22/10000: mean batch inertia: 4997.681250, ewa inertia: 5114.318675 \n",
            "Minibatch iteration 23/10000: mean batch inertia: 4644.442500, ewa inertia: 5104.922091 \n",
            "Minibatch iteration 24/10000: mean batch inertia: 4411.224063, ewa inertia: 5091.049517 \n",
            "Minibatch iteration 25/10000: mean batch inertia: 4401.819062, ewa inertia: 5077.266287 \n",
            "Minibatch iteration 26/10000: mean batch inertia: 5698.962500, ewa inertia: 5089.698968 \n",
            "Minibatch iteration 27/10000: mean batch inertia: 4658.178125, ewa inertia: 5081.069414 \n",
            "Minibatch iteration 28/10000: mean batch inertia: 5113.025937, ewa inertia: 5081.708480 \n",
            "Minibatch iteration 29/10000: mean batch inertia: 5245.161250, ewa inertia: 5084.977209 \n",
            "Minibatch iteration 30/10000: mean batch inertia: 4573.712188, ewa inertia: 5074.752931 \n",
            "Minibatch iteration 31/10000: mean batch inertia: 5081.405000, ewa inertia: 5074.885959 \n",
            "Minibatch iteration 32/10000: mean batch inertia: 4929.129063, ewa inertia: 5071.971112 \n",
            "Minibatch iteration 33/10000: mean batch inertia: 4305.442187, ewa inertia: 5056.642067 \n",
            "Minibatch iteration 34/10000: mean batch inertia: 4841.263750, ewa inertia: 5052.334931 \n",
            "Minibatch iteration 35/10000: mean batch inertia: 4680.615313, ewa inertia: 5044.901282 \n",
            "Minibatch iteration 36/10000: mean batch inertia: 5091.238125, ewa inertia: 5045.827926 \n",
            "Minibatch iteration 37/10000: mean batch inertia: 4560.530313, ewa inertia: 5036.122945 \n",
            "Minibatch iteration 38/10000: mean batch inertia: 4661.353125, ewa inertia: 5028.628298 \n",
            "Minibatch iteration 39/10000: mean batch inertia: 5084.895000, ewa inertia: 5029.753519 \n",
            "Minibatch iteration 40/10000: mean batch inertia: 4669.251875, ewa inertia: 5022.544207 \n",
            "Minibatch iteration 41/10000: mean batch inertia: 5069.425938, ewa inertia: 5023.481748 \n",
            "Minibatch iteration 42/10000: mean batch inertia: 5240.826563, ewa inertia: 5027.828210 \n",
            "Minibatch iteration 43/10000: mean batch inertia: 4459.800312, ewa inertia: 5016.468788 \n",
            "Minibatch iteration 44/10000: mean batch inertia: 4423.964063, ewa inertia: 5004.619878 \n",
            "Minibatch iteration 45/10000: mean batch inertia: 4527.960000, ewa inertia: 4995.087634 \n",
            "Minibatch iteration 46/10000: mean batch inertia: 4621.365000, ewa inertia: 4987.613928 \n",
            "Minibatch iteration 47/10000: mean batch inertia: 4740.325625, ewa inertia: 4982.668657 \n",
            "Minibatch iteration 48/10000: mean batch inertia: 4764.079375, ewa inertia: 4978.297308 \n",
            "Minibatch iteration 49/10000: mean batch inertia: 4789.164687, ewa inertia: 4974.515034 \n",
            "Minibatch iteration 50/10000: mean batch inertia: 4428.585000, ewa inertia: 4963.597525 \n",
            "Minibatch iteration 51/10000: mean batch inertia: 5578.916875, ewa inertia: 4975.902682 \n",
            "Minibatch iteration 52/10000: mean batch inertia: 4347.036875, ewa inertia: 4963.326623 \n",
            "Minibatch iteration 53/10000: mean batch inertia: 5098.573750, ewa inertia: 4966.031295 \n",
            "Minibatch iteration 54/10000: mean batch inertia: 5009.357813, ewa inertia: 4966.897739 \n",
            "Minibatch iteration 55/10000: mean batch inertia: 4983.219687, ewa inertia: 4967.224145 \n",
            "Minibatch iteration 56/10000: mean batch inertia: 4670.774688, ewa inertia: 4961.295749 \n",
            "Minibatch iteration 57/10000: mean batch inertia: 5006.109062, ewa inertia: 4962.191926 \n",
            "Minibatch iteration 58/10000: mean batch inertia: 4154.492500, ewa inertia: 4946.039552 \n",
            "Minibatch iteration 59/10000: mean batch inertia: 4531.082188, ewa inertia: 4937.741235 \n",
            "Minibatch iteration 60/10000: mean batch inertia: 4407.715625, ewa inertia: 4927.141783 \n",
            "Minibatch iteration 61/10000: mean batch inertia: 4630.174063, ewa inertia: 4921.203022 \n",
            "Minibatch iteration 62/10000: mean batch inertia: 5037.174063, ewa inertia: 4923.522211 \n",
            "Minibatch iteration 63/10000: mean batch inertia: 5241.157812, ewa inertia: 4929.874288 \n",
            "Minibatch iteration 64/10000: mean batch inertia: 4109.352813, ewa inertia: 4913.465499 \n",
            "Minibatch iteration 65/10000: mean batch inertia: 4518.905313, ewa inertia: 4905.575085 \n",
            "Minibatch iteration 66/10000: mean batch inertia: 4576.565937, ewa inertia: 4898.995560 \n",
            "Minibatch iteration 67/10000: mean batch inertia: 4317.876875, ewa inertia: 4887.374348 \n",
            "Minibatch iteration 68/10000: mean batch inertia: 5075.740000, ewa inertia: 4891.141284 \n",
            "Minibatch iteration 69/10000: mean batch inertia: 4122.285625, ewa inertia: 4875.765709 \n",
            "Minibatch iteration 70/10000: mean batch inertia: 5127.058750, ewa inertia: 4880.791067 \n",
            "Minibatch iteration 71/10000: mean batch inertia: 4696.036875, ewa inertia: 4877.096353 \n",
            "Minibatch iteration 72/10000: mean batch inertia: 4875.594063, ewa inertia: 4877.066310 \n",
            "Minibatch iteration 73/10000: mean batch inertia: 4071.834375, ewa inertia: 4860.963281 \n",
            "Minibatch iteration 74/10000: mean batch inertia: 4832.917188, ewa inertia: 4860.402416 \n",
            "Minibatch iteration 75/10000: mean batch inertia: 5079.215000, ewa inertia: 4864.778230 \n",
            "Minibatch iteration 76/10000: mean batch inertia: 4603.536875, ewa inertia: 4859.553925 \n",
            "Minibatch iteration 77/10000: mean batch inertia: 5153.944062, ewa inertia: 4865.441139 \n",
            "Minibatch iteration 78/10000: mean batch inertia: 4019.248437, ewa inertia: 4848.518977 \n",
            "Minibatch iteration 79/10000: mean batch inertia: 4788.115937, ewa inertia: 4847.311037 \n",
            "Minibatch iteration 80/10000: mean batch inertia: 5040.306562, ewa inertia: 4851.170562 \n",
            "Minibatch iteration 81/10000: mean batch inertia: 4883.725938, ewa inertia: 4851.821604 \n",
            "Minibatch iteration 82/10000: mean batch inertia: 4601.339375, ewa inertia: 4846.812461 \n",
            "Minibatch iteration 83/10000: mean batch inertia: 4554.881875, ewa inertia: 4840.974433 \n",
            "Minibatch iteration 84/10000: mean batch inertia: 4944.629687, ewa inertia: 4843.047330 \n",
            "Minibatch iteration 85/10000: mean batch inertia: 4601.872500, ewa inertia: 4838.224316 \n",
            "Minibatch iteration 86/10000: mean batch inertia: 5330.985000, ewa inertia: 4848.078544 \n",
            "Minibatch iteration 87/10000: mean batch inertia: 4861.753437, ewa inertia: 4848.352015 \n",
            "Minibatch iteration 88/10000: mean batch inertia: 5823.142500, ewa inertia: 4867.845875 \n",
            "Minibatch iteration 89/10000: mean batch inertia: 4623.124687, ewa inertia: 4862.951941 \n",
            "Minibatch iteration 90/10000: mean batch inertia: 5087.828438, ewa inertia: 4867.449021 \n",
            "Minibatch iteration 91/10000: mean batch inertia: 5073.049375, ewa inertia: 4871.560617 \n",
            "Minibatch iteration 92/10000: mean batch inertia: 4277.406563, ewa inertia: 4859.678724 \n",
            "Minibatch iteration 93/10000: mean batch inertia: 5073.852500, ewa inertia: 4863.961771 \n",
            "Minibatch iteration 94/10000: mean batch inertia: 4950.724375, ewa inertia: 4865.696850 \n",
            "Minibatch iteration 95/10000: mean batch inertia: 4588.070000, ewa inertia: 4860.144868 \n",
            "Converged (lack of improvement in inertia) at iteration 95/10000\n",
            "Computing label assignment and total inertia\n"
          ],
          "name": "stdout"
        }
      ]
    },
    {
      "cell_type": "code",
      "metadata": {
        "id": "J4HiXXlnrFKK",
        "colab_type": "code",
        "outputId": "eeaa3f25-9663-4bd8-80f9-9086af0e1309",
        "colab": {
          "base_uri": "https://localhost:8080/",
          "height": 499
        }
      },
      "source": [
        "#Observing the confusion matrix\n",
        "#It can be observed that the clusters are not correctly aligned w.r.t the labels\n",
        "from matplotlib import pyplot as plt\n",
        "from sklearn.metrics import confusion_matrix\n",
        "import seaborn as sns\n",
        "import pandas as pd\n",
        "\n",
        "confusionmatrix = confusion_matrix(y_test, y_pred)\n",
        "df_cm = pd.DataFrame(confusionmatrix, index = [i for i in \"0123456789\"], columns = [i for i in \"0123456789\"])\n",
        "plt.figure(figsize = (10, 8))\n",
        "plt.title('Original Confusion Matrix')\n",
        "cm_original = plt.gcf()\n",
        "fig = sns.heatmap(df_cm, annot=True, fmt='g')\n",
        "cm_original.savefig('original_cm_kmeans.png', dpi=300)"
      ],
      "execution_count": 14,
      "outputs": [
        {
          "output_type": "display_data",
          "data": {
            "image/png": "[encoded data removed]",
            "text/plain": [
              "<Figure size 720x576 with 2 Axes>"
            ]
          },
          "metadata": {
            "tags": []
          }
        }
      ]
    },
    {
      "cell_type": "code",
      "metadata": {
        "id": "4TTnJhtirFKV",
        "colab_type": "code",
        "outputId": "3d0f9aca-e715-42f5-841a-fb781d16169d",
        "colab": {
          "base_uri": "https://localhost:8080/",
          "height": 121
        }
      },
      "source": [
        "#Using Hungarian algorithm to compute reordered confusion matrix\n",
        "from sklearn.utils.linear_assignment_ import linear_assignment\n",
        "import numpy as np\n",
        "\n",
        "def _make_cost_m(cm):\n",
        "    max_value = np.max(cm)\n",
        "    return (- cm + max_value)\n",
        "\n",
        "cm = confusion_matrix(y_test, y_pred)\n",
        "indices = linear_assignment(_make_cost_m(cm))\n",
        "number = [element[1] for element in sorted(indices, key=lambda x: x[0])]\n",
        "reordered_cm = cm[:, number]\n",
        "\n",
        "print(\"Accuracy of KMeans with auto-encoder: \", (np.trace(reordered_cm) / np.sum(reordered_cm))*100, \"%\")"
      ],
      "execution_count": 15,
      "outputs": [
        {
          "output_type": "stream",
          "text": [
            "Accuracy of KMeans with auto-encoder:  59.550000000000004 %\n"
          ],
          "name": "stdout"
        },
        {
          "output_type": "stream",
          "text": [
            "/usr/local/lib/python3.6/dist-packages/sklearn/utils/linear_assignment_.py:21: DeprecationWarning: The linear_assignment_ module is deprecated in 0.21 and will be removed from 0.23. Use scipy.optimize.linear_sum_assignment instead.\n",
            "  DeprecationWarning)\n",
            "/usr/local/lib/python3.6/dist-packages/sklearn/utils/linear_assignment_.py:127: DeprecationWarning: The linear_assignment function is deprecated in 0.21 and will be removed from 0.23. Use scipy.optimize.linear_sum_assignment instead.\n",
            "  DeprecationWarning)\n"
          ],
          "name": "stderr"
        }
      ]
    },
    {
      "cell_type": "code",
      "metadata": {
        "id": "XYumk7k7rFKb",
        "colab_type": "code",
        "outputId": "2c053287-dced-4662-85d6-3a0dc149a453",
        "colab": {
          "base_uri": "https://localhost:8080/",
          "height": 499
        }
      },
      "source": [
        "#Visualizing reordered confusion matrix\n",
        "\n",
        "import seaborn as sns\n",
        "\n",
        "df_cm = pd.DataFrame(reordered_cm, index = [i for i in \"0123456789\"], columns = [i for i in \"0123456789\"])\n",
        "plt.figure(figsize = (10, 8))\n",
        "plt.title('Reordered Confusion Matrix')\n",
        "cm_reordered = plt.gcf()\n",
        "fig = sns.heatmap(df_cm, annot=True, fmt='g')\n",
        "# fig.pivot('Predicted labels', 'True labels')\n",
        "cm_reordered.savefig('reordered_cm_kmeans.png', dpi=300)"
      ],
      "execution_count": 16,
      "outputs": [
        {
          "output_type": "display_data",
          "data": {
            "image/png": "[encoded data removed]",
            "text/plain": [
              "<Figure size 720x576 with 2 Axes>"
            ]
          },
          "metadata": {
            "tags": []
          }
        }
      ]
    }
  ]
}