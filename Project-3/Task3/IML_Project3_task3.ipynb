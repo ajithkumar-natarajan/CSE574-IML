{
  "nbformat": 4,
  "nbformat_minor": 0,
  "metadata": {
    "kernelspec": {
      "name": "python3",
      "display_name": "Python 3"
    },
    "language_info": {
      "codemirror_mode": {
        "name": "ipython",
        "version": 3
      },
      "file_extension": ".py",
      "mimetype": "text/x-python",
      "name": "python",
      "nbconvert_exporter": "python",
      "pygments_lexer": "ipython3",
      "version": "3.6.5"
    },
    "colab": {
      "name": "IML_Project3_task3.ipynb",
      "provenance": [],
      "collapsed_sections": [],
      "machine_shape": "hm"
    },
    "accelerator": "GPU"
  },
  "cells": [
    {
      "cell_type": "code",
      "metadata": {
        "id": "9fAdy798rFJA",
        "colab_type": "code",
        "outputId": "10a3f22e-6665-4986-a1f6-48af63a5ab81",
        "colab": {
          "base_uri": "https://localhost:8080/",
          "height": 79
        }
      },
      "source": [
        "#Importing necessary libraries\n",
        "import keras\n",
        "import numpy as np\n",
        "from keras.models import Model\n",
        "from keras.optimizers import RMSprop\n",
        "from keras.layers import Input,Dense,Flatten,Dropout,merge,Reshape,Conv2D,MaxPooling2D,UpSampling2D,Conv2DTranspose\n",
        "from keras.layers.normalization import BatchNormalization\n",
        "from keras.models import Model,Sequential\n",
        "from keras.optimizers import Adadelta, RMSprop,SGD,Adam\n",
        "from keras import regularizers\n",
        "from keras import backend as K\n",
        "from sklearn.model_selection import train_test_split"
      ],
      "execution_count": 1,
      "outputs": [
        {
          "output_type": "stream",
          "text": [
            "Using TensorFlow backend.\n"
          ],
          "name": "stderr"
        },
        {
          "output_type": "display_data",
          "data": {
            "text/html": [
              "<p style=\"color: red;\">\n",
              "The default version of TensorFlow in Colab will soon switch to TensorFlow 2.x.<br>\n",
              "We recommend you <a href=\"https://www.tensorflow.org/guide/migrate\" target=\"_blank\">upgrade</a> now \n",
              "or ensure your notebook will continue to use TensorFlow 1.x via the <code>%tensorflow_version 1.x</code> magic:\n",
              "<a href=\"https://colab.research.google.com/notebooks/tensorflow_version.ipynb\" target=\"_blank\">more info</a>.</p>\n"
            ],
            "text/plain": [
              "<IPython.core.display.HTML object>"
            ]
          },
          "metadata": {
            "tags": []
          }
        }
      ]
    },
    {
      "cell_type": "code",
      "metadata": {
        "id": "VdBCVu0BrFJJ",
        "colab_type": "code",
        "outputId": "4dd9358d-7bca-4848-f1c1-3a5d2549f1a9",
        "colab": {
          "base_uri": "https://localhost:8080/",
          "height": 151
        }
      },
      "source": [
        "#Loading the dataset directly from Keras' library; normalizing and reshaping it\n",
        "(x_train, y_train), (x_test, y_test) = keras.datasets.fashion_mnist.load_data()\n",
        "x_train = (x_train.reshape(-1, 28, 28, 1)) / np.max(x_train)\n",
        "x_test = (x_test.reshape(-1, 28, 28, 1)) / np.max(x_test)\n",
        "np.max(x_train), np.max(x_test)\n",
        "#Splitting the dataset into training and validation sets\n",
        "train_set, val_set, train_out, val_out = train_test_split(x_train, x_train, test_size=0.2, random_state=42)"
      ],
      "execution_count": 2,
      "outputs": [
        {
          "output_type": "stream",
          "text": [
            "Downloading data from http://fashion-mnist.s3-website.eu-central-1.amazonaws.com/train-labels-idx1-ubyte.gz\n",
            "32768/29515 [=================================] - 0s 8us/step\n",
            "Downloading data from http://fashion-mnist.s3-website.eu-central-1.amazonaws.com/train-images-idx3-ubyte.gz\n",
            "26427392/26421880 [==============================] - 4s 0us/step\n",
            "Downloading data from http://fashion-mnist.s3-website.eu-central-1.amazonaws.com/t10k-labels-idx1-ubyte.gz\n",
            "8192/5148 [===============================================] - 0s 0us/step\n",
            "Downloading data from http://fashion-mnist.s3-website.eu-central-1.amazonaws.com/t10k-images-idx3-ubyte.gz\n",
            "4423680/4422102 [==============================] - 2s 0us/step\n"
          ],
          "name": "stdout"
        }
      ]
    },
    {
      "cell_type": "code",
      "metadata": {
        "id": "2yot3beUrFJN",
        "colab_type": "code",
        "outputId": "d3c4dadb-bbf1-491b-caa2-e410ac3f4e5f",
        "colab": {
          "base_uri": "https://localhost:8080/",
          "height": 406
        }
      },
      "source": [
        "#Declaring model architecture\n",
        "autoencoder = Sequential()\n",
        "\n",
        "input_shape=(28, 28, 1)\n",
        "filters=[32, 64, 128, 10]\n",
        "\n",
        "if input_shape[0] % 8 == 0:\n",
        "  pad3 = 'same'\n",
        "else:\n",
        "  pad3 = 'valid'\n",
        "\n",
        "autoencoder.add(Conv2D(filters[0], 5, strides=2, padding='same', activation='relu', name='conv1', input_shape=(28,28,1))) #28 x 28 x 32\n",
        "autoencoder.add(BatchNormalization())\n",
        "autoencoder.add(Conv2D(filters[1], 5, strides=2, padding='same', activation='relu', name='conv2'))\n",
        "autoencoder.add(BatchNormalization())\n",
        "\n",
        "autoencoder.add(Conv2D(filters[2], 3, strides=2, padding=pad3, activation='relu', name='conv3')) #14 x 14 x 64\n",
        "autoencoder.add(BatchNormalization())\n",
        "autoencoder.add(Flatten())\n",
        "\n",
        "autoencoder.add(Dense(units=filters[3], name='embedding'))\n",
        "\n",
        "autoencoder.add(Dense(units=filters[2]*int(input_shape[0]/8)*int(input_shape[0]/8), activation='relu'))\n",
        "\n",
        "autoencoder.add(Reshape((int(input_shape[0]/8), int(input_shape[0]/8), filters[2])))\n",
        "autoencoder.add(BatchNormalization())\n",
        "autoencoder.add(Conv2DTranspose(filters[1], 3, strides=2, padding=pad3, activation='relu', name='deconv3'))\n",
        "autoencoder.add(BatchNormalization())\n",
        "autoencoder.add(Conv2DTranspose(filters[0], 5, strides=2, padding='same', activation='relu', name='deconv2'))\n",
        "autoencoder.add(BatchNormalization())\n",
        "\n",
        "autoencoder.add(Conv2DTranspose(input_shape[2], 5, strides=2, padding='same', name='deconv1'))"
      ],
      "execution_count": 3,
      "outputs": [
        {
          "output_type": "stream",
          "text": [
            "WARNING:tensorflow:From /usr/local/lib/python3.6/dist-packages/keras/backend/tensorflow_backend.py:66: The name tf.get_default_graph is deprecated. Please use tf.compat.v1.get_default_graph instead.\n",
            "\n",
            "WARNING:tensorflow:From /usr/local/lib/python3.6/dist-packages/keras/backend/tensorflow_backend.py:541: The name tf.placeholder is deprecated. Please use tf.compat.v1.placeholder instead.\n",
            "\n",
            "WARNING:tensorflow:From /usr/local/lib/python3.6/dist-packages/keras/backend/tensorflow_backend.py:4432: The name tf.random_uniform is deprecated. Please use tf.random.uniform instead.\n",
            "\n",
            "WARNING:tensorflow:From /usr/local/lib/python3.6/dist-packages/keras/backend/tensorflow_backend.py:190: The name tf.get_default_session is deprecated. Please use tf.compat.v1.get_default_session instead.\n",
            "\n",
            "WARNING:tensorflow:From /usr/local/lib/python3.6/dist-packages/keras/backend/tensorflow_backend.py:197: The name tf.ConfigProto is deprecated. Please use tf.compat.v1.ConfigProto instead.\n",
            "\n",
            "WARNING:tensorflow:From /usr/local/lib/python3.6/dist-packages/keras/backend/tensorflow_backend.py:203: The name tf.Session is deprecated. Please use tf.compat.v1.Session instead.\n",
            "\n",
            "WARNING:tensorflow:From /usr/local/lib/python3.6/dist-packages/keras/backend/tensorflow_backend.py:207: The name tf.global_variables is deprecated. Please use tf.compat.v1.global_variables instead.\n",
            "\n",
            "WARNING:tensorflow:From /usr/local/lib/python3.6/dist-packages/keras/backend/tensorflow_backend.py:216: The name tf.is_variable_initialized is deprecated. Please use tf.compat.v1.is_variable_initialized instead.\n",
            "\n",
            "WARNING:tensorflow:From /usr/local/lib/python3.6/dist-packages/keras/backend/tensorflow_backend.py:223: The name tf.variables_initializer is deprecated. Please use tf.compat.v1.variables_initializer instead.\n",
            "\n",
            "WARNING:tensorflow:From /usr/local/lib/python3.6/dist-packages/keras/backend/tensorflow_backend.py:2041: The name tf.nn.fused_batch_norm is deprecated. Please use tf.compat.v1.nn.fused_batch_norm instead.\n",
            "\n",
            "WARNING:tensorflow:From /usr/local/lib/python3.6/dist-packages/keras/backend/tensorflow_backend.py:148: The name tf.placeholder_with_default is deprecated. Please use tf.compat.v1.placeholder_with_default instead.\n",
            "\n"
          ],
          "name": "stdout"
        }
      ]
    },
    {
      "cell_type": "code",
      "metadata": {
        "id": "QBbudxR0rFJR",
        "colab_type": "code",
        "colab": {}
      },
      "source": [
        "#Declaring constants\n",
        "batch_size = 32\n",
        "epochs = 100\n",
        "inChannel = 1\n",
        "x, y = 28, 28\n",
        "input_img = Input(shape = (x, y, inChannel))\n",
        "num_classes = 10"
      ],
      "execution_count": 0,
      "outputs": []
    },
    {
      "cell_type": "code",
      "metadata": {
        "id": "Jl8Ku84SrFJW",
        "colab_type": "code",
        "outputId": "54d15441-32d7-4834-a564-3eff2f55d08c",
        "colab": {
          "base_uri": "https://localhost:8080/",
          "height": 70
        }
      },
      "source": [
        "#Compiling the model and settings loss function and optimizer\n",
        "autoencoder.compile(loss='mean_squared_error', optimizer = Adam())"
      ],
      "execution_count": 5,
      "outputs": [
        {
          "output_type": "stream",
          "text": [
            "WARNING:tensorflow:From /usr/local/lib/python3.6/dist-packages/keras/optimizers.py:793: The name tf.train.Optimizer is deprecated. Please use tf.compat.v1.train.Optimizer instead.\n",
            "\n"
          ],
          "name": "stdout"
        }
      ]
    },
    {
      "cell_type": "code",
      "metadata": {
        "id": "11FbLZ77rFJb",
        "colab_type": "code",
        "colab": {}
      },
      "source": [
        "#Fitting the training data and validating the model\n",
        "autoencoder_train = autoencoder.fit(train_set, train_out, batch_size=batch_size, epochs=epochs, verbose=1, validation_data=(val_set, val_out))"
      ],
      "execution_count": 0,
      "outputs": []
    },
    {
      "cell_type": "code",
      "metadata": {
        "id": "hEJsw4Y7rFJf",
        "colab_type": "code",
        "outputId": "e51b9d74-a680-48f8-e865-3dfbc8e5f125",
        "colab": {
          "base_uri": "https://localhost:8080/",
          "height": 689
        }
      },
      "source": [
        "#Printing the summary of model\n",
        "autoencoder.summary()"
      ],
      "execution_count": 6,
      "outputs": [
        {
          "output_type": "stream",
          "text": [
            "Model: \"sequential_1\"\n",
            "_________________________________________________________________\n",
            "Layer (type)                 Output Shape              Param #   \n",
            "=================================================================\n",
            "conv1 (Conv2D)               (None, 14, 14, 32)        832       \n",
            "_________________________________________________________________\n",
            "batch_normalization_1 (Batch (None, 14, 14, 32)        128       \n",
            "_________________________________________________________________\n",
            "conv2 (Conv2D)               (None, 7, 7, 64)          51264     \n",
            "_________________________________________________________________\n",
            "batch_normalization_2 (Batch (None, 7, 7, 64)          256       \n",
            "_________________________________________________________________\n",
            "conv3 (Conv2D)               (None, 3, 3, 128)         73856     \n",
            "_________________________________________________________________\n",
            "batch_normalization_3 (Batch (None, 3, 3, 128)         512       \n",
            "_________________________________________________________________\n",
            "flatten_1 (Flatten)          (None, 1152)              0         \n",
            "_________________________________________________________________\n",
            "embedding (Dense)            (None, 10)                11530     \n",
            "_________________________________________________________________\n",
            "dense_1 (Dense)              (None, 1152)              12672     \n",
            "_________________________________________________________________\n",
            "reshape_1 (Reshape)          (None, 3, 3, 128)         0         \n",
            "_________________________________________________________________\n",
            "batch_normalization_4 (Batch (None, 3, 3, 128)         512       \n",
            "_________________________________________________________________\n",
            "deconv3 (Conv2DTranspose)    (None, 7, 7, 64)          73792     \n",
            "_________________________________________________________________\n",
            "batch_normalization_5 (Batch (None, 7, 7, 64)          256       \n",
            "_________________________________________________________________\n",
            "deconv2 (Conv2DTranspose)    (None, 14, 14, 32)        51232     \n",
            "_________________________________________________________________\n",
            "batch_normalization_6 (Batch (None, 14, 14, 32)        128       \n",
            "_________________________________________________________________\n",
            "deconv1 (Conv2DTranspose)    (None, 28, 28, 1)         801       \n",
            "=================================================================\n",
            "Total params: 277,771\n",
            "Trainable params: 276,875\n",
            "Non-trainable params: 896\n",
            "_________________________________________________________________\n"
          ],
          "name": "stdout"
        }
      ]
    },
    {
      "cell_type": "code",
      "metadata": {
        "id": "YqqnIH3OXJ04",
        "colab_type": "code",
        "colab": {}
      },
      "source": [
        "#Saving the model weights\n",
        "autoencoder.save_weights('autoencoder_weights.h5')\n",
        "\n",
        "#Loading the model weights\n",
        "# autoencoder.load_weights('autoencoder_weights.h5')"
      ],
      "execution_count": 0,
      "outputs": []
    },
    {
      "cell_type": "code",
      "metadata": {
        "id": "g1Ynte6erFKF",
        "colab_type": "code",
        "colab": {}
      },
      "source": [
        "#Plotting training & validation loss vs number of epochs while training for auto-encoder\n",
        "import matplotlib.pyplot as plt\n",
        "plt.plot(autoencoder.history.history['loss'], color='#009358', marker='o')\n",
        "plt.plot(autoencoder.history.history['val_loss'], color='orange', marker='o')\n",
        "plt.title(\"Training & validation loss\")\n",
        "plt.ylabel(\"Loss\")\n",
        "plt.xlabel(\"Epoch\")\n",
        "plt.legend(['Training loss', 'Validation loss'])\n",
        "graph = plt.gcf()\n",
        "plt.show()\n",
        "graph.savefig('Task2_3_epoch_loss.png', dpi=300)"
      ],
      "execution_count": 0,
      "outputs": []
    },
    {
      "cell_type": "code",
      "metadata": {
        "id": "_vKjcMOMrFJj",
        "colab_type": "code",
        "colab": {}
      },
      "source": [
        "#Importing additional libraries required\n",
        "from sklearn.mixture import GaussianMixture\n",
        "from sklearn import metrics"
      ],
      "execution_count": 0,
      "outputs": []
    },
    {
      "cell_type": "code",
      "metadata": {
        "id": "vvjSm2SjrFJn",
        "colab_type": "code",
        "colab": {}
      },
      "source": [
        "#Separating the encoder layer and using the condensed representation\n",
        "encoder = Model(inputs=autoencoder.input, outputs=autoencoder.get_layer('embedding').output)"
      ],
      "execution_count": 0,
      "outputs": []
    },
    {
      "cell_type": "code",
      "metadata": {
        "id": "cHg2AKEYrFKi",
        "colab_type": "code",
        "outputId": "457c456c-6e70-4055-b95a-84b05c4c1fa9",
        "colab": {
          "base_uri": "https://localhost:8080/",
          "height": 487
        }
      },
      "source": [
        "#Declaring, fitting and predicting the clusters for the test dataset\n",
        "from sklearn.mixture import GaussianMixture\n",
        "gmm = GaussianMixture(n_components=10, covariance_type='full', tol=0.01, verbose=1, n_init=10, init_params='kmeans', random_state=42 )\n",
        "encoder_pred = encoder.predict(x_test).reshape(x_test.shape[0], -1)\n",
        "y_pred_gmm = gmm.fit_predict(encoder_pred)"
      ],
      "execution_count": 12,
      "outputs": [
        {
          "output_type": "stream",
          "text": [
            "Initialization 0\n",
            "Initialization converged: True\n",
            "Initialization 1\n",
            "  Iteration 10\n",
            "Initialization converged: True\n",
            "Initialization 2\n",
            "  Iteration 10\n",
            "Initialization converged: True\n",
            "Initialization 3\n",
            "  Iteration 10\n",
            "Initialization converged: True\n",
            "Initialization 4\n",
            "  Iteration 10\n",
            "Initialization converged: True\n",
            "Initialization 5\n",
            "  Iteration 10\n",
            "Initialization converged: True\n",
            "Initialization 6\n",
            "  Iteration 10\n",
            "Initialization converged: True\n",
            "Initialization 7\n",
            "  Iteration 10\n",
            "Initialization converged: True\n",
            "Initialization 8\n",
            "  Iteration 10\n",
            "Initialization converged: True\n",
            "Initialization 9\n",
            "Initialization converged: True\n"
          ],
          "name": "stdout"
        }
      ]
    },
    {
      "cell_type": "code",
      "metadata": {
        "id": "c6IhYevJJhfC",
        "colab_type": "code",
        "outputId": "2f4b470f-06e6-4235-9943-4997c4d43530",
        "colab": {
          "base_uri": "https://localhost:8080/",
          "height": 499
        }
      },
      "source": [
        "#Observing the confusion matrix\n",
        "#It can be observed that the clusters are not correctly aligned w.r.t the labels\n",
        "from sklearn.metrics import confusion_matrix\n",
        "import seaborn as sns\n",
        "import pandas as pd\n",
        "\n",
        "confusionmatrix = confusion_matrix(y_test, y_pred_gmm)\n",
        "df_cm = pd.DataFrame(confusionmatrix, index = [i for i in \"0123456789\"], columns = [i for i in \"0123456789\"])\n",
        "plt.figure(figsize = (10, 8))\n",
        "plt.title('Original Confusion Matrix')\n",
        "cm_original = plt.gcf()\n",
        "fig = sns.heatmap(df_cm, annot=True, fmt='g')\n",
        "cm_original.savefig('original_cm_gmm.png', dpi=300)"
      ],
      "execution_count": 13,
      "outputs": [
        {
          "output_type": "display_data",
          "data": {
            "image/png": "[encoded data removed]",
            "text/plain": [
              "<Figure size 720x576 with 2 Axes>"
            ]
          },
          "metadata": {
            "tags": []
          }
        }
      ]
    },
    {
      "cell_type": "code",
      "metadata": {
        "id": "iVQd4nD_JkH_",
        "colab_type": "code",
        "outputId": "3722de51-1444-401c-b6b4-db4600657abb",
        "colab": {
          "base_uri": "https://localhost:8080/",
          "height": 121
        }
      },
      "source": [
        "#Using Hungarian algorithm to compute reordered confusion matrix\n",
        "from sklearn.utils.linear_assignment_ import linear_assignment\n",
        "import numpy as np\n",
        "\n",
        "def _make_cost_m(cm):\n",
        "    max_value = np.max(cm)\n",
        "    return (- cm + max_value)\n",
        "\n",
        "cm = confusion_matrix(y_test, y_pred_gmm)\n",
        "indices = linear_assignment(_make_cost_m(cm))\n",
        "number = [element[1] for element in sorted(indices, key=lambda x: x[0])]\n",
        "reordered_cm = cm[:, number]\n",
        "\n",
        "print(\"Accuracy of GMM with auto-encoder: \", (np.trace(reordered_cm) / np.sum(reordered_cm))*100, \"%\")"
      ],
      "execution_count": 14,
      "outputs": [
        {
          "output_type": "stream",
          "text": [
            "Accuracy of GMM with auto-encoder:  63.239999999999995 %\n"
          ],
          "name": "stdout"
        },
        {
          "output_type": "stream",
          "text": [
            "/usr/local/lib/python3.6/dist-packages/sklearn/utils/linear_assignment_.py:21: DeprecationWarning: The linear_assignment_ module is deprecated in 0.21 and will be removed from 0.23. Use scipy.optimize.linear_sum_assignment instead.\n",
            "  DeprecationWarning)\n",
            "/usr/local/lib/python3.6/dist-packages/sklearn/utils/linear_assignment_.py:127: DeprecationWarning: The linear_assignment function is deprecated in 0.21 and will be removed from 0.23. Use scipy.optimize.linear_sum_assignment instead.\n",
            "  DeprecationWarning)\n"
          ],
          "name": "stderr"
        }
      ]
    },
    {
      "cell_type": "code",
      "metadata": {
        "id": "DZE57-EMJ5Fd",
        "colab_type": "code",
        "outputId": "b7a29de8-e409-4948-ff93-243c310f76c1",
        "colab": {
          "base_uri": "https://localhost:8080/",
          "height": 499
        }
      },
      "source": [
        "#Visualizing reordered confusion matrix\n",
        "\n",
        "import seaborn as sns\n",
        "\n",
        "df_cm = pd.DataFrame(reordered_cm, index = [i for i in \"0123456789\"], columns = [i for i in \"0123456789\"])\n",
        "plt.figure(figsize = (10, 8))\n",
        "plt.title('Reordered Confusion Matrix')\n",
        "cm_reordered = plt.gcf()\n",
        "fig = sns.heatmap(df_cm, annot=True, fmt='g')\n",
        "# fig.pivot('Predicted labels', 'True labels')\n",
        "cm_reordered.savefig('reordered_cm_gmm.png', dpi=300)"
      ],
      "execution_count": 15,
      "outputs": [
        {
          "output_type": "display_data",
          "data": {
            "image/png": "[encoded data removed]",
            "text/plain": [
              "<Figure size 720x576 with 2 Axes>"
            ]
          },
          "metadata": {
            "tags": []
          }
        }
      ]
    }
  ]
}